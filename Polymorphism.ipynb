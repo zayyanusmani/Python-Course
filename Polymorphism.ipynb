{
  "nbformat": 4,
  "nbformat_minor": 0,
  "metadata": {
    "colab": {
      "name": "Polymorphism.ipynb",
      "provenance": []
    },
    "kernelspec": {
      "name": "python3",
      "display_name": "Python 3"
    },
    "language_info": {
      "name": "python"
    }
  },
  "cells": [
    {
      "cell_type": "markdown",
      "source": [
        "# **Polymorphism**\n",
        "\n",
        "Polymorphism means multiple forms.In python we can find the function taking multiple forms. That helps in re using a lot of code and decreases code complexity."
      ],
      "metadata": {
        "id": "Ih-N1WfT5s8B"
      }
    },
    {
      "cell_type": "markdown",
      "source": [
        "Now have a look at this example, both the animals make sound but each animal has its own distinct sound. Polymorhism helps us in using the functions that have the same purposes but have different attributes or belong to different classes."
      ],
      "metadata": {
        "id": "EYA-9iYZ6v2F"
      }
    },
    {
      "cell_type": "markdown",
      "source": [
        "![062920_1112_CPolymorphi1.webp](data:image/webp;base64,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)\n",
        "\n"
      ],
      "metadata": {
        "id": "E2v9g3Es6quP"
      }
    },
    {
      "cell_type": "markdown",
      "source": [
        "# There are two types of Polymorphism:\n",
        "1. Compile time polymorphism (Method Overloading)\n",
        "2. Run-time polymorphism (Method Overriding)"
      ],
      "metadata": {
        "id": "t2pNesBa6unc"
      }
    },
    {
      "cell_type": "markdown",
      "source": [
        "![2.webp](data:image/webp;base64,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)\n",
        "\n",
        "\n",
        "\n"
      ],
      "metadata": {
        "id": "OkGe4ub78KTO"
      }
    },
    {
      "cell_type": "markdown",
      "source": [
        "Like other languages (for example, method overloading in C++) do, python does not support method overloading by default. But there are different ways to achieve method overloading in Python. \n",
        "\n",
        "The problem with method overloading in Python is that we may overload the methods but can only use the latest defined method. "
      ],
      "metadata": {
        "id": "IlSG0rKO5380"
      }
    },
    {
      "cell_type": "code",
      "source": [
        "# The following code will show an error\n",
        "\n",
        "class Animals:\n",
        "  def speaks(self):\n",
        "    print(\"All animals make different sounds\")\n",
        "\n",
        "  def speaks(self,a):\n",
        "    print(\"All animals make different sounds\"+a)\n",
        "  \n",
        "  def speaks(self,a,b):\n",
        "    print(\"All animals make different sounds\"+a+b)\n",
        "\n",
        "\n",
        "ob = Animals()\n",
        "\n",
        "# If we uncomment the following two lines, we will get an error.\n",
        "\n",
        "# ob.speaks()\n",
        "# ob.speaks(\"a\")\n",
        "ob.speaks(\"a\",\"b\")"
      ],
      "metadata": {
        "colab": {
          "base_uri": "https://localhost:8080/",
          "height": 244
        },
        "id": "9mVArjMP7X-w",
        "outputId": "88523669-6827-47a9-82f1-7a7b2b69d4f3"
      },
      "execution_count": 6,
      "outputs": [
        {
          "output_type": "error",
          "ename": "TypeError",
          "evalue": "ignored",
          "traceback": [
            "\u001b[0;31m---------------------------------------------------------------------------\u001b[0m",
            "\u001b[0;31mTypeError\u001b[0m                                 Traceback (most recent call last)",
            "\u001b[0;32m<ipython-input-6-651471f95117>\u001b[0m in \u001b[0;36m<module>\u001b[0;34m()\u001b[0m\n\u001b[1;32m     14\u001b[0m \u001b[0mob\u001b[0m \u001b[0;34m=\u001b[0m \u001b[0mAnimals\u001b[0m\u001b[0;34m(\u001b[0m\u001b[0;34m)\u001b[0m\u001b[0;34m\u001b[0m\u001b[0;34m\u001b[0m\u001b[0m\n\u001b[1;32m     15\u001b[0m \u001b[0;34m\u001b[0m\u001b[0m\n\u001b[0;32m---> 16\u001b[0;31m \u001b[0mob\u001b[0m\u001b[0;34m.\u001b[0m\u001b[0mspeaks\u001b[0m\u001b[0;34m(\u001b[0m\u001b[0;34m)\u001b[0m\u001b[0;34m\u001b[0m\u001b[0;34m\u001b[0m\u001b[0m\n\u001b[0m\u001b[1;32m     17\u001b[0m \u001b[0mob\u001b[0m\u001b[0;34m.\u001b[0m\u001b[0mspeaks\u001b[0m\u001b[0;34m(\u001b[0m\u001b[0;34m\"a\"\u001b[0m\u001b[0;34m)\u001b[0m\u001b[0;34m\u001b[0m\u001b[0;34m\u001b[0m\u001b[0m\n\u001b[1;32m     18\u001b[0m \u001b[0mob\u001b[0m\u001b[0;34m.\u001b[0m\u001b[0mspeaks\u001b[0m\u001b[0;34m(\u001b[0m\u001b[0;34m\"a\"\u001b[0m\u001b[0;34m,\u001b[0m\u001b[0;34m\"b\"\u001b[0m\u001b[0;34m)\u001b[0m\u001b[0;34m\u001b[0m\u001b[0;34m\u001b[0m\u001b[0m\n",
            "\u001b[0;31mTypeError\u001b[0m: speaks() missing 2 required positional arguments: 'a' and 'b'"
          ]
        }
      ]
    },
    {
      "cell_type": "code",
      "source": [
        "# However method overloading can be achieved in python this way\n",
        "def sum(a,b,c = 0):\n",
        "  print(a+b+c)\n",
        "\n",
        "\n",
        "sum(1,2,2)\n",
        "sum(3,4)"
      ],
      "metadata": {
        "colab": {
          "base_uri": "https://localhost:8080/"
        },
        "id": "3TqVhHFl6BZI",
        "outputId": "d246c256-ec37-4c5c-c304-d84bad04ff86"
      },
      "execution_count": 5,
      "outputs": [
        {
          "output_type": "stream",
          "name": "stdout",
          "text": [
            "5\n",
            "7\n"
          ]
        }
      ]
    },
    {
      "cell_type": "code",
      "source": [
        "# method overriding\n",
        "\n",
        "class Bird:\n",
        "  def intro(self):\n",
        "    print(\"There are many types of birds.\")\n",
        "    \n",
        "  def flight(self):\n",
        "    print(\"Most of the birds can fly but some cannot.\")\n",
        "\n",
        "class Sparrow(Bird):\n",
        "  def flight(self):\n",
        "    print(\"Sparrows can fly.\")\n",
        "\t\n",
        "class Ostrich(Bird):\n",
        "  def flight(self):\n",
        "    print(\"Ostriches cannot fly.\")\n",
        "\t\n",
        "obj_bird = Bird()\n",
        "obj_spr = Sparrow()\n",
        "obj_ost = Ostrich()\n",
        "\n",
        "obj_bird.intro()\n",
        "obj_bird.flight()\n",
        "\n",
        "obj_spr.intro()\n",
        "obj_spr.flight()\n",
        "\n",
        "# obj_ost.intro()\n",
        "# obj_ost.flight()\n"
      ],
      "metadata": {
        "colab": {
          "base_uri": "https://localhost:8080/"
        },
        "id": "hL61x5Y9H61B",
        "outputId": "f4b40705-6516-46e7-a08a-e451c4b63c2c"
      },
      "execution_count": null,
      "outputs": [
        {
          "output_type": "stream",
          "name": "stdout",
          "text": [
            "There are many types of birds.\n",
            "Most of the birds can fly but some cannot.\n",
            "There are many types of birds.\n",
            "Sparrows can fly.\n"
          ]
        }
      ]
    },
    {
      "cell_type": "code",
      "source": [
        "# This is not polymorphism\n",
        "\n",
        "class Animals:\n",
        "  def speaks(self):\n",
        "    print(\"All animals make different sounds\")\n",
        "\n",
        "class Dog:\n",
        "  def speaks(self):\n",
        "    print(\"Bark\")\n",
        "\n",
        "class Cat:\n",
        "  def speaks(self):\n",
        "    print(\"Meow\")\n",
        "\n",
        "ob = Cat()\n",
        "ob2 = Dog()\n",
        "\n",
        "ob.speaks()\n",
        "ob2.speaks()"
      ],
      "metadata": {
        "colab": {
          "base_uri": "https://localhost:8080/"
        },
        "id": "UvG1ZAbuMv2Y",
        "outputId": "9f1ced39-2d17-4852-a19f-16476c41df3e"
      },
      "execution_count": null,
      "outputs": [
        {
          "output_type": "stream",
          "name": "stdout",
          "text": [
            "5\n",
            "7\n"
          ]
        }
      ]
    }
  ]
}