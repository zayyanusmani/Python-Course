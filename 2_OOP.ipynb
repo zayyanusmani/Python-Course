{
  "nbformat": 4,
  "nbformat_minor": 0,
  "metadata": {
    "colab": {
      "name": "OOP.ipynb",
      "provenance": []
    },
    "kernelspec": {
      "name": "python3",
      "display_name": "Python 3"
    },
    "language_info": {
      "name": "python"
    }
  },
  "cells": [
    {
      "cell_type": "markdown",
      "source": [
        "# **Classes**\n",
        "\n",
        "A class is a code template for creating objects. Objects have member variables and have behaviour associated with them. In python a class is created by the keyword class . An object is created using the constructor of the class. This object will then be called the instance of the class.\n",
        "\n",
        "Classes provide a means of bundling data and functionality together. Creating a new class creates a new type of object, allowing new instances of that type to be made. Each class instance can have attributes attached to it for maintaining its state."
      ],
      "metadata": {
        "id": "Zp-J-wDgcj71"
      }
    },
    {
      "cell_type": "code",
      "execution_count": null,
      "metadata": {
        "colab": {
          "base_uri": "https://localhost:8080/"
        },
        "id": "gHUEWajIJ6ci",
        "outputId": "a3155470-e9c3-4bfc-ed00-58d09996f2f3"
      },
      "outputs": [
        {
          "output_type": "stream",
          "name": "stdout",
          "text": [
            "Tommy\n",
            "<class 'int'>\n",
            "16\n",
            "Hello\n",
            "mercedez 6\n"
          ]
        }
      ],
      "source": [
        "class Animal:\n",
        "  dog = \"Tommy\"\n",
        "  parrot = \"Mithu\"\n",
        "  a = 7\n",
        "\n",
        "  def abc(self):\n",
        "    print(\"Hello\")\n",
        "  \n",
        "  def car(self,a,b):\n",
        "    print(a,b)\n",
        "\n",
        "\n",
        "ob = Animal()\n",
        "print(ob.dog)\n",
        "print(type(ob.a))\n",
        "print(ob.a + 9)\n",
        "ob.abc()\n",
        "ob.car(\"mercedez\",6)"
      ]
    },
    {
      "cell_type": "markdown",
      "source": [
        "***what is self?***\n",
        "\n",
        "self represents the instance of the class. By using the “self” we can access the attributes and methods of the class in python. It binds the attributes with the given arguments."
      ],
      "metadata": {
        "id": "U1MFN3Zvf-Ve"
      }
    },
    {
      "cell_type": "markdown",
      "source": [
        "# **Make a class Calculator**\n",
        "\n",
        "a class should have four functions for each arithematic operation + - * /\n",
        "\n",
        "functions should recieve 2 values\n",
        "\n",
        "call all the functions from outside the class"
      ],
      "metadata": {
        "id": "ez8v0Ja7SWri"
      }
    },
    {
      "cell_type": "code",
      "source": [
        "class Calculator:\n",
        "  def add(self,a,b):\n",
        "    print(a+b)\n",
        "  def sub(self,a,b):\n",
        "    print(a-b)\n",
        "  def mul(self,a,b):\n",
        "    print(a*b)\n",
        "  def div(self,a,b):\n",
        "    print(a/b)\n",
        "  def abc(self,a,b,c):\n",
        "    return a+b+c\n",
        "\n",
        "obj = Calculator()\n",
        "obj.add(5,6)\n",
        "obj.sub(5,6)\n",
        "obj.mul(5,6)\n",
        "obj.div(5,6)\n",
        "print(obj.div(4,3))\n",
        "print(obj.abc(2,3,4))"
      ],
      "metadata": {
        "colab": {
          "base_uri": "https://localhost:8080/"
        },
        "id": "_rb1-cO8Sp5h",
        "outputId": "52285cee-85d1-4f37-996f-86fc47c35dee"
      },
      "execution_count": null,
      "outputs": [
        {
          "output_type": "stream",
          "name": "stdout",
          "text": [
            "9\n"
          ]
        }
      ]
    },
    {
      "cell_type": "markdown",
      "source": [
        "# **Constructor**\n",
        "\n",
        "Constructors are generally used for instantiating an object. The task of constructors is to initialize(assign values) to the data members of the class when an object of the class is created. In Python the __init__() method is called the constructor and is always called when an object is created."
      ],
      "metadata": {
        "id": "DcQpd4LjgNJA"
      }
    },
    {
      "cell_type": "code",
      "source": [
        "# def __init__():\n",
        "  # dasda\n",
        "  # asdad"
      ],
      "metadata": {
        "id": "f01ioXt6qvKf"
      },
      "execution_count": null,
      "outputs": []
    },
    {
      "cell_type": "code",
      "source": [
        "class Student:\n",
        "  def __init__(self, name, roll):\n",
        "    self.name = name\n",
        "    self.roll = roll\n",
        "\n",
        "s1 = Student(\"Ahmed\",1243)\n",
        "s2 = Student(\"Zain\",5321)\n",
        "print(s1.name,s2.roll)"
      ],
      "metadata": {
        "colab": {
          "base_uri": "https://localhost:8080/"
        },
        "id": "Z3QpSw3iUyUx",
        "outputId": "01f0ce69-8b32-4708-e7e5-dd9564bce09b"
      },
      "execution_count": null,
      "outputs": [
        {
          "output_type": "stream",
          "name": "stdout",
          "text": [
            "Ahmed 5321\n"
          ]
        }
      ]
    },
    {
      "cell_type": "code",
      "source": [
        "class Mammals:\n",
        "  a = \"Dog\"\n",
        "\n",
        "class Reptiles:\n",
        "  a = \"Snake\"\n",
        "\n",
        "obj = Reptiles()\n",
        "print(obj.a)\n",
        "obj2 = Mammals()\n",
        "print(obj2.a)"
      ],
      "metadata": {
        "colab": {
          "base_uri": "https://localhost:8080/"
        },
        "id": "5fax51U-XO-Z",
        "outputId": "30365c5f-f429-4e05-9c71-ca439491fd7f"
      },
      "execution_count": null,
      "outputs": [
        {
          "output_type": "stream",
          "name": "stdout",
          "text": [
            "Snake\n",
            "Dog\n"
          ]
        }
      ]
    },
    {
      "cell_type": "markdown",
      "source": [
        "# **OOP**\n",
        "Object-oriented programming (OOP) is a computer programming model that organizes software design around data, or objects, rather than functions and logic. An object can be defined as a data field that has unique attributes and behavior.\n",
        "\n",
        "Python is an object oriented programming language. Almost everything in Python is an object, with its properties and methods. A Class is like an object constructor, or a \"blueprint\" for creating objects.\n",
        "\n",
        "\n",
        "Object-oriented programming has four basic concepts: **encapsulation, abstraction, inheritance** and **polymorphism**."
      ],
      "metadata": {
        "id": "e4Z3QwIrmvgK"
      }
    },
    {
      "cell_type": "markdown",
      "source": [
        "# **Inheritence**\n",
        "\n",
        "Inheritance is an important aspect of the object-oriented paradigm. Inheritance provides code reusability to the program because we can use an existing class to create a new class instead of creating it from scratch.\n",
        "\n",
        "In inheritance, the child class acquires the properties and can access all the data members and functions defined in the parent class. A child class can also provide its specific implementation to the functions of the parent class. "
      ],
      "metadata": {
        "id": "Qfo3JBGxg8Ip"
      }
    },
    {
      "cell_type": "code",
      "source": [
        "# Parent class\n",
        "\n",
        "class Country:\n",
        "  pak = \"Pakistan\"\n",
        "  india = 'India'\n",
        "\n",
        "  def abc(self):\n",
        "    print(\"from parent\")\n"
      ],
      "metadata": {
        "id": "wFZFVE9NZI2Y"
      },
      "execution_count": null,
      "outputs": []
    },
    {
      "cell_type": "code",
      "source": [
        "# Child class\n",
        "\n",
        "class Capitals(Country):\n",
        "  pak_cap = \"Islamabad\"\n",
        "  ind_cap = \"Dehli\"\n",
        "\n",
        "  def fgh(self):\n",
        "    print(\"From child\")\n",
        "    # for x in range(10):\n",
        "    #   print(x)\n",
        "\n",
        "# instance of class Capitals\n",
        "obj = Capitals()\n",
        "# Instance of class Country\n",
        "obj2 = Country()\n",
        "print(obj2.pak)\n",
        "print(obj.pak)\n",
        "print(obj.pak_cap)\n",
        "# print(obj2.pak_cap)\n",
        "# print(obj2.pak_cap)\n",
        "\n",
        "print(obj.fgh())\n",
        "# print(obj.fgh())\n"
      ],
      "metadata": {
        "colab": {
          "base_uri": "https://localhost:8080/"
        },
        "id": "AEfwOGmKZj3O",
        "outputId": "33db52bc-9d9f-4c09-f6cd-7e15413b5fe0"
      },
      "execution_count": null,
      "outputs": [
        {
          "output_type": "stream",
          "name": "stdout",
          "text": [
            "Pakistan\n",
            "Pakistan\n",
            "Islamabad\n",
            "From child\n",
            "None\n"
          ]
        }
      ]
    },
    {
      "cell_type": "markdown",
      "source": [
        "# **Multi level inheritance:**\n",
        "\n",
        "In multilevel inheritance, the transfer of the properties of characteristics is done to more than one class hierarchically. To get a better visualization we can consider it as an ancestor to grandchildren relation or a root to leaf in a tree with more than one level."
      ],
      "metadata": {
        "id": "5P03o7wkhbuo"
      }
    },
    {
      "cell_type": "code",
      "source": [
        "class A:\n",
        "  a = \"a\"\n",
        "class B(A):\n",
        "  b = \"b\"\n",
        "class C(B):\n",
        "  c = \"c\"\n",
        "\n",
        "\n",
        "obj = C()\n",
        "print(obj.c)\n",
        "print(obj.b)\n",
        "print(obj.a)"
      ],
      "metadata": {
        "colab": {
          "base_uri": "https://localhost:8080/"
        },
        "id": "JTpG6xgjgkTE",
        "outputId": "eee935d7-1e1e-4051-cd3e-c7375b30b25a"
      },
      "execution_count": null,
      "outputs": [
        {
          "output_type": "stream",
          "name": "stdout",
          "text": [
            "c\n",
            "b\n",
            "a\n"
          ]
        }
      ]
    },
    {
      "cell_type": "markdown",
      "source": [
        "# **multiple inheritance**\n",
        "\n",
        "This inheritance enables a child class to inherit from more than one parent class. This type of inheritance is not supported by java classes, but python does support this kind of inheritance. It has a massive advantage if we have a requirement of gathering multiple characteristics from different classes."
      ],
      "metadata": {
        "id": "G2qZ3iFZhhTV"
      }
    },
    {
      "cell_type": "code",
      "source": [
        "class A:\n",
        "  a = \"a\"\n",
        "class B:\n",
        "  b = \"b\"\n",
        "class C(A,B):\n",
        "  c = \"c\"\n",
        "\n",
        "\n",
        "obj = C()\n",
        "print(obj.c)\n",
        "print(obj.b)\n",
        "print(obj.a)"
      ],
      "metadata": {
        "id": "FDYr6ogeg9cs",
        "colab": {
          "base_uri": "https://localhost:8080/"
        },
        "outputId": "a4ab2076-149d-408c-95ea-f0ad806c9632"
      },
      "execution_count": null,
      "outputs": [
        {
          "output_type": "stream",
          "name": "stdout",
          "text": [
            "c\n",
            "b\n",
            "a\n"
          ]
        }
      ]
    },
    {
      "cell_type": "markdown",
      "source": [
        "# **Hierarchical Inheritance**\n",
        "\n",
        "This inheritance allows a class to host as a parent class for more than one child class or subclass. This provides a benefit of sharing the functioning of methods with multiple child classes, hence avoiding code duplication."
      ],
      "metadata": {
        "id": "6BxJwepIhtos"
      }
    },
    {
      "cell_type": "code",
      "source": [
        "class A:\n",
        "  a = \"a\"\n",
        "class B(A):\n",
        "  b = \"b\"\n",
        "class C(A):\n",
        "  c = \"c\"\n",
        "\n",
        "\n",
        "obj = C()\n",
        "print(obj.c)\n",
        "print(obj.b)\n",
        "print(obj.a)"
      ],
      "metadata": {
        "id": "pnXd_cdWiV02"
      },
      "execution_count": null,
      "outputs": []
    }
  ]
}
