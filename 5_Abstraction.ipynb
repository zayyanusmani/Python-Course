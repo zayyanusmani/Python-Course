{
  "nbformat": 4,
  "nbformat_minor": 0,
  "metadata": {
    "colab": {
      "name": "Abstraction.ipynb",
      "provenance": []
    },
    "kernelspec": {
      "name": "python3",
      "display_name": "Python 3"
    },
    "language_info": {
      "name": "python"
    }
  },
  "cells": [
    {
      "cell_type": "markdown",
      "source": [
        "# **Abstraction**\n",
        "\n",
        "Abstraction is used to hide the internal functionality of the function from the users. The users only interact with the basic implementation of the function, but inner working is hidden. User is familiar with that \"what function does\" but they don't know \"how it does.\""
      ],
      "metadata": {
        "id": "miXMiE_KdjtV"
      }
    },
    {
      "cell_type": "code",
      "execution_count": null,
      "metadata": {
        "id": "lz5iu932Xozr"
      },
      "outputs": [],
      "source": [
        "# ABC Abstrat Base Class\n",
        "\n",
        "from abc import ABC, abstractmethod   \n",
        "class Car(ABC):   \n",
        "    def mileage(self):   \n",
        "        pass  \n",
        "  \n",
        "class Tesla(Car):   \n",
        "    def mileage(self):   \n",
        "        print(\"The mileage is 30kmph\")   \n",
        "class Suzuki(Car):   \n",
        "    def mileage(self):   \n",
        "        print(\"The mileage is 25kmph \")   \n",
        "class Duster(Car):   \n",
        "     def mileage(self):   \n",
        "          print(\"The mileage is 24kmph \")   \n",
        "  \n",
        "class Renault(Car):   \n",
        "    def mileage(self):   \n",
        "            print(\"The mileage is 27kmph \")   \n"
      ]
    },
    {
      "cell_type": "code",
      "source": [
        "import math\n",
        "\n",
        "print(math.floor(1.2))\n",
        "print(math.ceil(1.2))\n",
        "print(int(math.sqrt(25)))"
      ],
      "metadata": {
        "colab": {
          "base_uri": "https://localhost:8080/"
        },
        "id": "LZaaUWUdgwBf",
        "outputId": "73c72374-af87-4402-8a84-b9b17ace5db3"
      },
      "execution_count": null,
      "outputs": [
        {
          "output_type": "stream",
          "name": "stdout",
          "text": [
            "1\n",
            "2\n",
            "5\n"
          ]
        }
      ]
    }
  ]
}
